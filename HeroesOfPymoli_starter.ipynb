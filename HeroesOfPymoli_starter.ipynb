{
 "cells": [
  {
   "cell_type": "markdown",
   "metadata": {},
   "source": [
    "### Note\n",
    "* Instructions have been included for each segment. You do not have to follow them exactly, but they are included to help you think through the steps."
   ]
  },
  {
   "cell_type": "code",
   "execution_count": 59,
   "metadata": {},
   "outputs": [],
   "source": [
    "# Dependencies and Setup\n",
    "import pandas as pd\n",
    "\n",
    "# File to Load (Remember to Change These)\n",
    "file_to_load = \"Resources/purchase_data.csv\"\n",
    "\n",
    "# Read Purchasing File and store into Pandas data frame\n",
    "purchase_data = pd.read_csv(file_to_load)"
   ]
  },
  {
   "cell_type": "markdown",
   "metadata": {},
   "source": [
    "## Player Count"
   ]
  },
  {
   "cell_type": "markdown",
   "metadata": {},
   "source": [
    "* Display the total number of players\n"
   ]
  },
  {
   "cell_type": "code",
   "execution_count": 205,
   "metadata": {},
   "outputs": [
    {
     "data": {
      "text/html": [
       "<div>\n",
       "<style scoped>\n",
       "    .dataframe tbody tr th:only-of-type {\n",
       "        vertical-align: middle;\n",
       "    }\n",
       "\n",
       "    .dataframe tbody tr th {\n",
       "        vertical-align: top;\n",
       "    }\n",
       "\n",
       "    .dataframe thead th {\n",
       "        text-align: right;\n",
       "    }\n",
       "</style>\n",
       "<table border=\"1\" class=\"dataframe\">\n",
       "  <thead>\n",
       "    <tr style=\"text-align: right;\">\n",
       "      <th></th>\n",
       "      <th>Total Players</th>\n",
       "    </tr>\n",
       "  </thead>\n",
       "  <tbody>\n",
       "    <tr>\n",
       "      <th>0</th>\n",
       "      <td>576</td>\n",
       "    </tr>\n",
       "  </tbody>\n",
       "</table>\n",
       "</div>"
      ],
      "text/plain": [
       "   Total Players\n",
       "0            576"
      ]
     },
     "execution_count": 205,
     "metadata": {},
     "output_type": "execute_result"
    }
   ],
   "source": [
    "#Player Count\n",
    "    #Total Number of Players\n",
    "\n",
    "#Create inital DataFrame\n",
    "df = pd.read_csv(file_to_load, encoding=\"ISO-8859-1\")\n",
    "\n",
    "#Show Total Players in DataFrame\n",
    "tot_players = df[\"SN\"].nunique()\n",
    "player_df = pd.DataFrame({\"Total Players\": [tot_players]})\n",
    "player_df"
   ]
  },
  {
   "cell_type": "markdown",
   "metadata": {},
   "source": [
    "## Purchasing Analysis (Total)"
   ]
  },
  {
   "cell_type": "markdown",
   "metadata": {},
   "source": [
    "* Run basic calculations to obtain number of unique items, average price, etc.\n",
    "\n",
    "\n",
    "* Create a summary data frame to hold the results\n",
    "\n",
    "\n",
    "* Optional: give the displayed data cleaner formatting\n",
    "\n",
    "\n",
    "* Display the summary data frame\n"
   ]
  },
  {
   "cell_type": "code",
   "execution_count": 195,
   "metadata": {
    "scrolled": true
   },
   "outputs": [],
   "source": [
    "#Purchasing Analysis (Total)\n",
    "    #Number of Unique Items\n",
    "    #Average Purchase Price\n",
    "    #Total Number of Purchases\n",
    "    #Total Revenue"
   ]
  },
  {
   "cell_type": "code",
   "execution_count": 200,
   "metadata": {},
   "outputs": [
    {
     "data": {
      "text/html": [
       "<style  type=\"text/css\" >\n",
       "</style><table id=\"T_78ed2386_1b51_11eb_b5fc_2c337a050eee\" ><thead>    <tr>        <th class=\"blank level0\" ></th>        <th class=\"col_heading level0 col0\" >Number of Unique Items:</th>        <th class=\"col_heading level0 col1\" >Average Purchase Price:</th>        <th class=\"col_heading level0 col2\" >Total Number of Purchases:</th>        <th class=\"col_heading level0 col3\" >Total Revenue:</th>    </tr></thead><tbody>\n",
       "                <tr>\n",
       "                        <th id=\"T_78ed2386_1b51_11eb_b5fc_2c337a050eeelevel0_row0\" class=\"row_heading level0 row0\" >0</th>\n",
       "                        <td id=\"T_78ed2386_1b51_11eb_b5fc_2c337a050eeerow0_col0\" class=\"data row0 col0\" >179</td>\n",
       "                        <td id=\"T_78ed2386_1b51_11eb_b5fc_2c337a050eeerow0_col1\" class=\"data row0 col1\" >$3.05</td>\n",
       "                        <td id=\"T_78ed2386_1b51_11eb_b5fc_2c337a050eeerow0_col2\" class=\"data row0 col2\" >780</td>\n",
       "                        <td id=\"T_78ed2386_1b51_11eb_b5fc_2c337a050eeerow0_col3\" class=\"data row0 col3\" >$2,379.77</td>\n",
       "            </tr>\n",
       "    </tbody></table>"
      ],
      "text/plain": [
       "<pandas.io.formats.style.Styler at 0x19534d710d0>"
      ]
     },
     "execution_count": 200,
     "metadata": {},
     "output_type": "execute_result"
    }
   ],
   "source": [
    "#Number of Unique items\n",
    "unq_items = df[\"Item Name\"].nunique()\n",
    "#Average Purchase Price\n",
    "avg_price = df[\"Price\"].mean()\n",
    "#Total Number of Purchases\n",
    "tot_purchases = df[\"Purchase ID\"].count()\n",
    "#Total Revenue\n",
    "tot_revenue = df[\"Price\"].sum()\n",
    "#Summary DataFrame\n",
    "summary_df = pd.DataFrame({\"Number of Unique Items:\": [unq_items],\n",
    "                 \"Average Purchase Price:\": [avg_price],\n",
    "                 \"Total Number of Purchases:\": [tot_purchases],\n",
    "                 \"Total Revenue:\": [tot_revenue]})\n",
    "#FORMAT\n",
    "summary_df.style.format({\"Average Purchase Price:\":\"${:,.2f}\",\n",
    "                         \"Total Revenue:\": '${:,.2f}'})"
   ]
  },
  {
   "cell_type": "markdown",
   "metadata": {},
   "source": [
    "## Gender Demographics"
   ]
  },
  {
   "cell_type": "markdown",
   "metadata": {},
   "source": [
    "#Percentage and Count of Male Players\n",
    "#Percentage and Count of Female Players\n",
    "#Percentage and Count of Other / Non-Disclosed"
   ]
  },
  {
   "cell_type": "code",
   "execution_count": 204,
   "metadata": {},
   "outputs": [
    {
     "data": {
      "text/html": [
       "<style  type=\"text/css\" >\n",
       "</style><table id=\"T_0a80c3f4_1b52_11eb_be5e_2c337a050eee\" ><thead>    <tr>        <th class=\"blank level0\" ></th>        <th class=\"col_heading level0 col0\" >Value of each Gender</th>        <th class=\"col_heading level0 col1\" >Percentage of each Gender</th>    </tr>    <tr>        <th class=\"index_name level0\" >Gender</th>        <th class=\"blank\" ></th>        <th class=\"blank\" ></th>    </tr></thead><tbody>\n",
       "                <tr>\n",
       "                        <th id=\"T_0a80c3f4_1b52_11eb_be5e_2c337a050eeelevel0_row0\" class=\"row_heading level0 row0\" >Male</th>\n",
       "                        <td id=\"T_0a80c3f4_1b52_11eb_be5e_2c337a050eeerow0_col0\" class=\"data row0 col0\" >484</td>\n",
       "                        <td id=\"T_0a80c3f4_1b52_11eb_be5e_2c337a050eeerow0_col1\" class=\"data row0 col1\" >84.03%</td>\n",
       "            </tr>\n",
       "            <tr>\n",
       "                        <th id=\"T_0a80c3f4_1b52_11eb_be5e_2c337a050eeelevel0_row1\" class=\"row_heading level0 row1\" >Female</th>\n",
       "                        <td id=\"T_0a80c3f4_1b52_11eb_be5e_2c337a050eeerow1_col0\" class=\"data row1 col0\" >81</td>\n",
       "                        <td id=\"T_0a80c3f4_1b52_11eb_be5e_2c337a050eeerow1_col1\" class=\"data row1 col1\" >14.06%</td>\n",
       "            </tr>\n",
       "            <tr>\n",
       "                        <th id=\"T_0a80c3f4_1b52_11eb_be5e_2c337a050eeelevel0_row2\" class=\"row_heading level0 row2\" >Other / Non-Disclosed</th>\n",
       "                        <td id=\"T_0a80c3f4_1b52_11eb_be5e_2c337a050eeerow2_col0\" class=\"data row2 col0\" >11</td>\n",
       "                        <td id=\"T_0a80c3f4_1b52_11eb_be5e_2c337a050eeerow2_col1\" class=\"data row2 col1\" >1.91%</td>\n",
       "            </tr>\n",
       "    </tbody></table>"
      ],
      "text/plain": [
       "<pandas.io.formats.style.Styler at 0x19533b87bb0>"
      ]
     },
     "execution_count": 204,
     "metadata": {},
     "output_type": "execute_result"
    }
   ],
   "source": [
    "#Groupby \"Gender\"\n",
    "gender_counts = df.groupby(\"Gender\")\n",
    "\n",
    "#Total Gender Counts\n",
    "tot_count_each_gender = gender_counts.nunique()[\"SN\"]\n",
    "\n",
    "#Total % by Gender\n",
    "gender_perc = tot_count_each_gender / tot_players * 100\n",
    "\n",
    "#Summary DataFrame\n",
    "gender_df = pd.DataFrame({\"Value of each Gender\": tot_count_gender,\n",
    "                          \"Percentage of each Gender\": gender_perc})\n",
    "\n",
    "# FORMAT\n",
    "gender_df.sort_values([\"Value of each Gender\"], ascending = False).style.format({\"Percentage of each Gender\":'{:.2f}%'})"
   ]
  },
  {
   "cell_type": "markdown",
   "metadata": {},
   "source": [
    "\n",
    "## Purchasing Analysis (Gender)"
   ]
  },
  {
   "cell_type": "markdown",
   "metadata": {},
   "source": [
    "* Run basic calculations to obtain purchase count, avg. purchase price, avg. purchase total per person etc. by gender\n",
    "\n",
    "\n",
    "\n",
    "\n",
    "* Create a summary data frame to hold the results\n",
    "\n",
    "\n",
    "* Optional: give the displayed data cleaner formatting\n",
    "\n",
    "\n",
    "* Display the summary data frame"
   ]
  },
  {
   "cell_type": "code",
   "execution_count": 181,
   "metadata": {},
   "outputs": [
    {
     "data": {
      "text/html": [
       "<style  type=\"text/css\" >\n",
       "</style><table id=\"T_5a1c42eb_1b49_11eb_950e_2c337a050eee\" ><thead>    <tr>        <th class=\"blank level0\" ></th>        <th class=\"col_heading level0 col0\" >Purchase Count:</th>        <th class=\"col_heading level0 col1\" >Average Purchase Price:</th>        <th class=\"col_heading level0 col2\" >Total Purchase Value:</th>        <th class=\"col_heading level0 col3\" >Average Purchase Total per Person by Gender:</th>    </tr>    <tr>        <th class=\"index_name level0\" >Gender</th>        <th class=\"blank\" ></th>        <th class=\"blank\" ></th>        <th class=\"blank\" ></th>        <th class=\"blank\" ></th>    </tr></thead><tbody>\n",
       "                <tr>\n",
       "                        <th id=\"T_5a1c42eb_1b49_11eb_950e_2c337a050eeelevel0_row0\" class=\"row_heading level0 row0\" >Female</th>\n",
       "                        <td id=\"T_5a1c42eb_1b49_11eb_950e_2c337a050eeerow0_col0\" class=\"data row0 col0\" >113</td>\n",
       "                        <td id=\"T_5a1c42eb_1b49_11eb_950e_2c337a050eeerow0_col1\" class=\"data row0 col1\" >$3.20</td>\n",
       "                        <td id=\"T_5a1c42eb_1b49_11eb_950e_2c337a050eeerow0_col2\" class=\"data row0 col2\" >$361.94</td>\n",
       "                        <td id=\"T_5a1c42eb_1b49_11eb_950e_2c337a050eeerow0_col3\" class=\"data row0 col3\" >$4.47</td>\n",
       "            </tr>\n",
       "            <tr>\n",
       "                        <th id=\"T_5a1c42eb_1b49_11eb_950e_2c337a050eeelevel0_row1\" class=\"row_heading level0 row1\" >Male</th>\n",
       "                        <td id=\"T_5a1c42eb_1b49_11eb_950e_2c337a050eeerow1_col0\" class=\"data row1 col0\" >652</td>\n",
       "                        <td id=\"T_5a1c42eb_1b49_11eb_950e_2c337a050eeerow1_col1\" class=\"data row1 col1\" >$3.02</td>\n",
       "                        <td id=\"T_5a1c42eb_1b49_11eb_950e_2c337a050eeerow1_col2\" class=\"data row1 col2\" >$1,967.64</td>\n",
       "                        <td id=\"T_5a1c42eb_1b49_11eb_950e_2c337a050eeerow1_col3\" class=\"data row1 col3\" >$4.07</td>\n",
       "            </tr>\n",
       "            <tr>\n",
       "                        <th id=\"T_5a1c42eb_1b49_11eb_950e_2c337a050eeelevel0_row2\" class=\"row_heading level0 row2\" >Other / Non-Disclosed</th>\n",
       "                        <td id=\"T_5a1c42eb_1b49_11eb_950e_2c337a050eeerow2_col0\" class=\"data row2 col0\" >15</td>\n",
       "                        <td id=\"T_5a1c42eb_1b49_11eb_950e_2c337a050eeerow2_col1\" class=\"data row2 col1\" >$3.35</td>\n",
       "                        <td id=\"T_5a1c42eb_1b49_11eb_950e_2c337a050eeerow2_col2\" class=\"data row2 col2\" >$50.19</td>\n",
       "                        <td id=\"T_5a1c42eb_1b49_11eb_950e_2c337a050eeerow2_col3\" class=\"data row2 col3\" >$4.56</td>\n",
       "            </tr>\n",
       "    </tbody></table>"
      ],
      "text/plain": [
       "<pandas.io.formats.style.Styler at 0x19532b8da60>"
      ]
     },
     "execution_count": 181,
     "metadata": {},
     "output_type": "execute_result"
    }
   ],
   "source": [
    "#The below each broken by gender\n",
    "    #Purchase Count\n",
    "    #Average Purchase Price\n",
    "    #Total Purchase Value\n",
    "    #Average Purchase Total per Person by Gender\n",
    "    \n",
    "#Pull Data from the \"Gender_Counts\" Groupby\n",
    "\n",
    "#Determine Total Average Purchase (0.52)\n",
    "tot_avg_purchase = avg_price/ tot_players * 100\n",
    "\n",
    "# Purchase Count\n",
    "gender_purchase_count = gender_counts[\"Purchase ID\"].count()\n",
    "\n",
    "# Average Purchase Price x gender\n",
    "gender_avg_purchase_price = gender_counts[\"Price\"].mean()\n",
    "\n",
    "# Total Purchase Value x gender\n",
    "gender_purchase_totals = gender_counts[\"Price\"].sum()\n",
    "\n",
    "# Average Purchase Total per Person by Gender \n",
    "gender_avg_purchase_by_user = gender_purchase_totals/tot_count_each_gender\n",
    "\n",
    "#Summary Dataframe\n",
    "demographics_df = pd.DataFrame({\"Purchase Count:\": gender_purchase_count,\n",
    "                               \"Average Purchase Price:\": gender_avg_purchase_price,\n",
    "                               \"Total Purchase Value:\": gender_purchase_totals,\n",
    "                               \"Average Purchase Total per Person by Gender:\": gender_avg_purchase_by_user})\n",
    "#FORMAT\n",
    "demographics_df.style.format({\"Average Purchase Price:\":\"${:,.2f}\",\n",
    "                              \"Total Purchase Value:\":\"${:,.2f}\",\n",
    "                              \"Average Purchase Total per Person by Gender:\":\"${:,.2f}\"})"
   ]
  },
  {
   "cell_type": "markdown",
   "metadata": {},
   "source": [
    "## Age Demographics"
   ]
  },
  {
   "cell_type": "markdown",
   "metadata": {},
   "source": [
    "* Establish bins for ages\n",
    "\n",
    "\n",
    "* Categorize the existing players using the age bins. Hint: use pd.cut()\n",
    "\n",
    "\n",
    "* Calculate the numbers and percentages by age group\n",
    "\n",
    "\n",
    "* Create a summary data frame to hold the results\n",
    "\n",
    "\n",
    "* Optional: round the percentage column to two decimal points\n",
    "\n",
    "\n",
    "* Display Age Demographics Table\n"
   ]
  },
  {
   "cell_type": "code",
   "execution_count": 168,
   "metadata": {},
   "outputs": [],
   "source": [
    "#The below each broken into bins of 4 years (i.e. <10, 10-14, 15-19, etc.)\n",
    "    #Purchase Count\n",
    "    #Average Purchase Price\n",
    "    #Total Purchase Value\n",
    "    #Average Purchase Total per Person by Age Group"
   ]
  },
  {
   "cell_type": "code",
   "execution_count": 180,
   "metadata": {},
   "outputs": [
    {
     "data": {
      "text/html": [
       "<style  type=\"text/css\" >\n",
       "</style><table id=\"T_14808787_1b49_11eb_8384_2c337a050eee\" ><thead>    <tr>        <th class=\"blank level0\" ></th>        <th class=\"col_heading level0 col0\" >Purchase Count:</th>        <th class=\"col_heading level0 col1\" >Average Purchase Price:</th>        <th class=\"col_heading level0 col2\" >Total Purchase Value:</th>        <th class=\"col_heading level0 col3\" >Average Purchase Total per Person by Age Group:</th>    </tr>    <tr>        <th class=\"index_name level0\" >Age Group</th>        <th class=\"blank\" ></th>        <th class=\"blank\" ></th>        <th class=\"blank\" ></th>        <th class=\"blank\" ></th>    </tr></thead><tbody>\n",
       "                <tr>\n",
       "                        <th id=\"T_14808787_1b49_11eb_8384_2c337a050eeelevel0_row0\" class=\"row_heading level0 row0\" ><10</th>\n",
       "                        <td id=\"T_14808787_1b49_11eb_8384_2c337a050eeerow0_col0\" class=\"data row0 col0\" >23</td>\n",
       "                        <td id=\"T_14808787_1b49_11eb_8384_2c337a050eeerow0_col1\" class=\"data row0 col1\" >$3.35</td>\n",
       "                        <td id=\"T_14808787_1b49_11eb_8384_2c337a050eeerow0_col2\" class=\"data row0 col2\" >$77.13</td>\n",
       "                        <td id=\"T_14808787_1b49_11eb_8384_2c337a050eeerow0_col3\" class=\"data row0 col3\" >$4.54</td>\n",
       "            </tr>\n",
       "            <tr>\n",
       "                        <th id=\"T_14808787_1b49_11eb_8384_2c337a050eeelevel0_row1\" class=\"row_heading level0 row1\" >10-14</th>\n",
       "                        <td id=\"T_14808787_1b49_11eb_8384_2c337a050eeerow1_col0\" class=\"data row1 col0\" >28</td>\n",
       "                        <td id=\"T_14808787_1b49_11eb_8384_2c337a050eeerow1_col1\" class=\"data row1 col1\" >$2.96</td>\n",
       "                        <td id=\"T_14808787_1b49_11eb_8384_2c337a050eeerow1_col2\" class=\"data row1 col2\" >$82.78</td>\n",
       "                        <td id=\"T_14808787_1b49_11eb_8384_2c337a050eeerow1_col3\" class=\"data row1 col3\" >$3.76</td>\n",
       "            </tr>\n",
       "            <tr>\n",
       "                        <th id=\"T_14808787_1b49_11eb_8384_2c337a050eeelevel0_row2\" class=\"row_heading level0 row2\" >15-19</th>\n",
       "                        <td id=\"T_14808787_1b49_11eb_8384_2c337a050eeerow2_col0\" class=\"data row2 col0\" >136</td>\n",
       "                        <td id=\"T_14808787_1b49_11eb_8384_2c337a050eeerow2_col1\" class=\"data row2 col1\" >$3.04</td>\n",
       "                        <td id=\"T_14808787_1b49_11eb_8384_2c337a050eeerow2_col2\" class=\"data row2 col2\" >$412.89</td>\n",
       "                        <td id=\"T_14808787_1b49_11eb_8384_2c337a050eeerow2_col3\" class=\"data row2 col3\" >$3.86</td>\n",
       "            </tr>\n",
       "            <tr>\n",
       "                        <th id=\"T_14808787_1b49_11eb_8384_2c337a050eeelevel0_row3\" class=\"row_heading level0 row3\" >20-24</th>\n",
       "                        <td id=\"T_14808787_1b49_11eb_8384_2c337a050eeerow3_col0\" class=\"data row3 col0\" >365</td>\n",
       "                        <td id=\"T_14808787_1b49_11eb_8384_2c337a050eeerow3_col1\" class=\"data row3 col1\" >$3.05</td>\n",
       "                        <td id=\"T_14808787_1b49_11eb_8384_2c337a050eeerow3_col2\" class=\"data row3 col2\" >$1,114.06</td>\n",
       "                        <td id=\"T_14808787_1b49_11eb_8384_2c337a050eeerow3_col3\" class=\"data row3 col3\" >$4.32</td>\n",
       "            </tr>\n",
       "            <tr>\n",
       "                        <th id=\"T_14808787_1b49_11eb_8384_2c337a050eeelevel0_row4\" class=\"row_heading level0 row4\" >25-29</th>\n",
       "                        <td id=\"T_14808787_1b49_11eb_8384_2c337a050eeerow4_col0\" class=\"data row4 col0\" >101</td>\n",
       "                        <td id=\"T_14808787_1b49_11eb_8384_2c337a050eeerow4_col1\" class=\"data row4 col1\" >$2.90</td>\n",
       "                        <td id=\"T_14808787_1b49_11eb_8384_2c337a050eeerow4_col2\" class=\"data row4 col2\" >$293.00</td>\n",
       "                        <td id=\"T_14808787_1b49_11eb_8384_2c337a050eeerow4_col3\" class=\"data row4 col3\" >$3.81</td>\n",
       "            </tr>\n",
       "            <tr>\n",
       "                        <th id=\"T_14808787_1b49_11eb_8384_2c337a050eeelevel0_row5\" class=\"row_heading level0 row5\" >30-34</th>\n",
       "                        <td id=\"T_14808787_1b49_11eb_8384_2c337a050eeerow5_col0\" class=\"data row5 col0\" >73</td>\n",
       "                        <td id=\"T_14808787_1b49_11eb_8384_2c337a050eeerow5_col1\" class=\"data row5 col1\" >$2.93</td>\n",
       "                        <td id=\"T_14808787_1b49_11eb_8384_2c337a050eeerow5_col2\" class=\"data row5 col2\" >$214.00</td>\n",
       "                        <td id=\"T_14808787_1b49_11eb_8384_2c337a050eeerow5_col3\" class=\"data row5 col3\" >$4.12</td>\n",
       "            </tr>\n",
       "            <tr>\n",
       "                        <th id=\"T_14808787_1b49_11eb_8384_2c337a050eeelevel0_row6\" class=\"row_heading level0 row6\" >35-39</th>\n",
       "                        <td id=\"T_14808787_1b49_11eb_8384_2c337a050eeerow6_col0\" class=\"data row6 col0\" >41</td>\n",
       "                        <td id=\"T_14808787_1b49_11eb_8384_2c337a050eeerow6_col1\" class=\"data row6 col1\" >$3.60</td>\n",
       "                        <td id=\"T_14808787_1b49_11eb_8384_2c337a050eeerow6_col2\" class=\"data row6 col2\" >$147.67</td>\n",
       "                        <td id=\"T_14808787_1b49_11eb_8384_2c337a050eeerow6_col3\" class=\"data row6 col3\" >$4.76</td>\n",
       "            </tr>\n",
       "            <tr>\n",
       "                        <th id=\"T_14808787_1b49_11eb_8384_2c337a050eeelevel0_row7\" class=\"row_heading level0 row7\" >40+</th>\n",
       "                        <td id=\"T_14808787_1b49_11eb_8384_2c337a050eeerow7_col0\" class=\"data row7 col0\" >13</td>\n",
       "                        <td id=\"T_14808787_1b49_11eb_8384_2c337a050eeerow7_col1\" class=\"data row7 col1\" >$2.94</td>\n",
       "                        <td id=\"T_14808787_1b49_11eb_8384_2c337a050eeerow7_col2\" class=\"data row7 col2\" >$38.24</td>\n",
       "                        <td id=\"T_14808787_1b49_11eb_8384_2c337a050eeerow7_col3\" class=\"data row7 col3\" >$3.19</td>\n",
       "            </tr>\n",
       "    </tbody></table>"
      ],
      "text/plain": [
       "<pandas.io.formats.style.Styler at 0x195315b4610>"
      ]
     },
     "execution_count": 180,
     "metadata": {},
     "output_type": "execute_result"
    }
   ],
   "source": [
    "# Establish bins for ages\n",
    "age_bins = [0, 9.01, 14.01, 19.01, 24.01, 29.01, 34.01, 39.01, 1000]\n",
    "age_groups = [\"<10\", \"10-14\", \"15-19\", \"20-24\", \"25-29\", \"30-34\", \"35-39\", \"40+\"]\n",
    "#Sort csv into the bins above & create new data frame with new age groups\n",
    "purchase_data[\"Age Group\"] = pd.cut(purchase_data[\"Age\"],age_bins, labels=age_groups)\n",
    "age_df = purchase_data.groupby(\"Age Group\")\n",
    "#Purchase Count\n",
    "age_purchase_count = age_df[\"Purchase ID\"].count()\n",
    "#Avgerage Purchase Price\n",
    "age_avg_purchase_price = age_df[\"Price\"].mean()\n",
    "#Total Purchase Value\n",
    "tot_purchase_value = age_df[\"Price\"].sum()\n",
    "#Average Purchase Total per Person by Age group\n",
    "age_count = age_df[\"SN\"].nunique()\n",
    "avg_tot_per_person_by_age = tot_purchase_value / age_count\n",
    "\n",
    "#Create DataFrame\n",
    "age_df = pd.DataFrame({\"Purchase Count:\": age_purchase_count,\n",
    "                                 \"Average Purchase Price:\": age_avg_purchase_price,\n",
    "                                 \"Total Purchase Value:\": tot_purchase_value,\n",
    "                                 \"Average Purchase Total per Person by Age Group:\": avg_tot_per_person_by_age})\n",
    "\n",
    "#FORMAT \n",
    "age_df.style.format({\"Average Purchase Price:\":\"${:,.2f}\",\n",
    "                               \"Total Purchase Value:\":\"${:,.2f}\",\n",
    "                               \"Average Purchase Total per Person by Age Group:\":\"${:,.2f}\"})"
   ]
  },
  {
   "cell_type": "markdown",
   "metadata": {},
   "source": [
    "## Purchasing Analysis (Age)"
   ]
  },
  {
   "cell_type": "markdown",
   "metadata": {},
   "source": [
    "* Bin the purchase_data data frame by age\n",
    "\n",
    "\n",
    "* Run basic calculations to obtain purchase count, avg. purchase price, avg. purchase total per person etc. in the table below\n",
    "\n",
    "\n",
    "* Create a summary data frame to hold the results\n",
    "\n",
    "\n",
    "* Optional: give the displayed data cleaner formatting\n",
    "\n",
    "\n",
    "* Display the summary data frame"
   ]
  },
  {
   "cell_type": "markdown",
   "metadata": {},
   "source": [
    "## Top Spenders"
   ]
  },
  {
   "cell_type": "markdown",
   "metadata": {},
   "source": [
    "* Run basic calculations to obtain the results in the table below\n",
    "\n",
    "\n",
    "* Create a summary data frame to hold the results\n",
    "\n",
    "\n",
    "* Sort the total purchase value column in descending order\n",
    "\n",
    "\n",
    "* Optional: give the displayed data cleaner formatting\n",
    "\n",
    "\n",
    "* Display a preview of the summary data frame\n",
    "\n"
   ]
  },
  {
   "cell_type": "code",
   "execution_count": null,
   "metadata": {},
   "outputs": [],
   "source": [
    "#Identify the the top 5 spenders in the game by total purchase value, then list (in a table):\n",
    "    #SN\n",
    "    #Purchase Count\n",
    "    #Average Purchase Price\n",
    "    #Total Purchase Value"
   ]
  },
  {
   "cell_type": "code",
   "execution_count": 187,
   "metadata": {},
   "outputs": [
    {
     "data": {
      "text/html": [
       "<style  type=\"text/css\" >\n",
       "</style><table id=\"T_7c3925ba_1b4b_11eb_b45c_2c337a050eee\" ><thead>    <tr>        <th class=\"blank level0\" ></th>        <th class=\"col_heading level0 col0\" >Purchase Count:</th>        <th class=\"col_heading level0 col1\" >Average Purchase Price:</th>        <th class=\"col_heading level0 col2\" >Total Purchase Value:</th>    </tr>    <tr>        <th class=\"index_name level0\" >SN</th>        <th class=\"blank\" ></th>        <th class=\"blank\" ></th>        <th class=\"blank\" ></th>    </tr></thead><tbody>\n",
       "                <tr>\n",
       "                        <th id=\"T_7c3925ba_1b4b_11eb_b45c_2c337a050eeelevel0_row0\" class=\"row_heading level0 row0\" >Lisosia93</th>\n",
       "                        <td id=\"T_7c3925ba_1b4b_11eb_b45c_2c337a050eeerow0_col0\" class=\"data row0 col0\" >5</td>\n",
       "                        <td id=\"T_7c3925ba_1b4b_11eb_b45c_2c337a050eeerow0_col1\" class=\"data row0 col1\" >$3.79</td>\n",
       "                        <td id=\"T_7c3925ba_1b4b_11eb_b45c_2c337a050eeerow0_col2\" class=\"data row0 col2\" >$18.96</td>\n",
       "            </tr>\n",
       "            <tr>\n",
       "                        <th id=\"T_7c3925ba_1b4b_11eb_b45c_2c337a050eeelevel0_row1\" class=\"row_heading level0 row1\" >Idastidru52</th>\n",
       "                        <td id=\"T_7c3925ba_1b4b_11eb_b45c_2c337a050eeerow1_col0\" class=\"data row1 col0\" >4</td>\n",
       "                        <td id=\"T_7c3925ba_1b4b_11eb_b45c_2c337a050eeerow1_col1\" class=\"data row1 col1\" >$3.86</td>\n",
       "                        <td id=\"T_7c3925ba_1b4b_11eb_b45c_2c337a050eeerow1_col2\" class=\"data row1 col2\" >$15.45</td>\n",
       "            </tr>\n",
       "            <tr>\n",
       "                        <th id=\"T_7c3925ba_1b4b_11eb_b45c_2c337a050eeelevel0_row2\" class=\"row_heading level0 row2\" >Chamjask73</th>\n",
       "                        <td id=\"T_7c3925ba_1b4b_11eb_b45c_2c337a050eeerow2_col0\" class=\"data row2 col0\" >3</td>\n",
       "                        <td id=\"T_7c3925ba_1b4b_11eb_b45c_2c337a050eeerow2_col1\" class=\"data row2 col1\" >$4.61</td>\n",
       "                        <td id=\"T_7c3925ba_1b4b_11eb_b45c_2c337a050eeerow2_col2\" class=\"data row2 col2\" >$13.83</td>\n",
       "            </tr>\n",
       "            <tr>\n",
       "                        <th id=\"T_7c3925ba_1b4b_11eb_b45c_2c337a050eeelevel0_row3\" class=\"row_heading level0 row3\" >Iral74</th>\n",
       "                        <td id=\"T_7c3925ba_1b4b_11eb_b45c_2c337a050eeerow3_col0\" class=\"data row3 col0\" >4</td>\n",
       "                        <td id=\"T_7c3925ba_1b4b_11eb_b45c_2c337a050eeerow3_col1\" class=\"data row3 col1\" >$3.40</td>\n",
       "                        <td id=\"T_7c3925ba_1b4b_11eb_b45c_2c337a050eeerow3_col2\" class=\"data row3 col2\" >$13.62</td>\n",
       "            </tr>\n",
       "            <tr>\n",
       "                        <th id=\"T_7c3925ba_1b4b_11eb_b45c_2c337a050eeelevel0_row4\" class=\"row_heading level0 row4\" >Iskadarya95</th>\n",
       "                        <td id=\"T_7c3925ba_1b4b_11eb_b45c_2c337a050eeerow4_col0\" class=\"data row4 col0\" >3</td>\n",
       "                        <td id=\"T_7c3925ba_1b4b_11eb_b45c_2c337a050eeerow4_col1\" class=\"data row4 col1\" >$4.37</td>\n",
       "                        <td id=\"T_7c3925ba_1b4b_11eb_b45c_2c337a050eeerow4_col2\" class=\"data row4 col2\" >$13.10</td>\n",
       "            </tr>\n",
       "    </tbody></table>"
      ],
      "text/plain": [
       "<pandas.io.formats.style.Styler at 0x19533c81d90>"
      ]
     },
     "execution_count": 187,
     "metadata": {},
     "output_type": "execute_result"
    }
   ],
   "source": [
    "#Groupby Screen Names (SN)\n",
    "big_spender = purchase_data.groupby(\"SN\")\n",
    "\n",
    "#Purchase Count (how many purchases the user made)\n",
    "big_spender_purchase_counts = big_spender[\"Purchase ID\"].count()\n",
    "\n",
    "#Average Purchase Price\n",
    "big_spender_avg_purchase_price = big_spender[\"Price\"].mean()\n",
    "\n",
    "#Total Purchase Value\n",
    "big_spender_tot_purchase = big_spender[\"Price\"].sum()\n",
    "\n",
    "# Create Data Frame\n",
    "top_spenders = pd.DataFrame({\"Purchase Count:\": big_spender_purchase_counts,\n",
    "                             \"Average Purchase Price:\": big_spender_avg_purchase_price,\n",
    "                             \"Total Purchase Value:\":big_spender_tot_purchase})\n",
    "#Filter to only show TOP FIVE SPENDERS\n",
    "topfive_spenders = top_spenders.sort_values([\"Total Purchase Value:\"], ascending=False).head()\n",
    "#FORMAT\n",
    "topfive_spenders.style.format({\"Average Purchase Total:\":\"${:,.2f}\",\n",
    "                                 \"Average Purchase Price:\":\"${:,.2f}\", \n",
    "                                 \"Total Purchase Value:\":\"${:,.2f}\"})"
   ]
  },
  {
   "cell_type": "markdown",
   "metadata": {},
   "source": [
    "## Most Popular Items"
   ]
  },
  {
   "cell_type": "markdown",
   "metadata": {},
   "source": [
    "* Retrieve the Item ID, Item Name, and Item Price columns\n",
    "\n",
    "\n",
    "* Group by Item ID and Item Name. Perform calculations to obtain purchase count, average item price, and total purchase value\n",
    "\n",
    "\n",
    "* Create a summary data frame to hold the results\n",
    "\n",
    "\n",
    "* Sort the purchase count column in descending order\n",
    "\n",
    "\n",
    "* Optional: give the displayed data cleaner formatting\n",
    "\n",
    "\n",
    "* Display a preview of the summary data frame\n",
    "\n"
   ]
  },
  {
   "cell_type": "code",
   "execution_count": null,
   "metadata": {},
   "outputs": [],
   "source": [
    "#Identify the 5 most popular items by purchase count, then list (in a table):\n",
    "    #Item ID\n",
    "    #Item Name\n",
    "    #Purchase Count\n",
    "    #Item Price\n",
    "    #Total Purchase Value"
   ]
  },
  {
   "cell_type": "code",
   "execution_count": 191,
   "metadata": {},
   "outputs": [
    {
     "data": {
      "text/html": [
       "<style  type=\"text/css\" >\n",
       "</style><table id=\"T_e0fac210_1b4d_11eb_a410_2c337a050eee\" ><thead>    <tr>        <th class=\"blank\" ></th>        <th class=\"blank level0\" ></th>        <th class=\"col_heading level0 col0\" >Purchase Count:</th>        <th class=\"col_heading level0 col1\" >Item Price:</th>        <th class=\"col_heading level0 col2\" >Total Purchase Value:</th>    </tr>    <tr>        <th class=\"index_name level0\" >Item ID</th>        <th class=\"index_name level1\" >Item Name</th>        <th class=\"blank\" ></th>        <th class=\"blank\" ></th>        <th class=\"blank\" ></th>    </tr></thead><tbody>\n",
       "                <tr>\n",
       "                        <th id=\"T_e0fac210_1b4d_11eb_a410_2c337a050eeelevel0_row0\" class=\"row_heading level0 row0\" >92</th>\n",
       "                        <th id=\"T_e0fac210_1b4d_11eb_a410_2c337a050eeelevel1_row0\" class=\"row_heading level1 row0\" >Final Critic</th>\n",
       "                        <td id=\"T_e0fac210_1b4d_11eb_a410_2c337a050eeerow0_col0\" class=\"data row0 col0\" >13</td>\n",
       "                        <td id=\"T_e0fac210_1b4d_11eb_a410_2c337a050eeerow0_col1\" class=\"data row0 col1\" >$4.61</td>\n",
       "                        <td id=\"T_e0fac210_1b4d_11eb_a410_2c337a050eeerow0_col2\" class=\"data row0 col2\" >$59.99</td>\n",
       "            </tr>\n",
       "            <tr>\n",
       "                        <th id=\"T_e0fac210_1b4d_11eb_a410_2c337a050eeelevel0_row1\" class=\"row_heading level0 row1\" >178</th>\n",
       "                        <th id=\"T_e0fac210_1b4d_11eb_a410_2c337a050eeelevel1_row1\" class=\"row_heading level1 row1\" >Oathbreaker, Last Hope of the Breaking Storm</th>\n",
       "                        <td id=\"T_e0fac210_1b4d_11eb_a410_2c337a050eeerow1_col0\" class=\"data row1 col0\" >12</td>\n",
       "                        <td id=\"T_e0fac210_1b4d_11eb_a410_2c337a050eeerow1_col1\" class=\"data row1 col1\" >$4.23</td>\n",
       "                        <td id=\"T_e0fac210_1b4d_11eb_a410_2c337a050eeerow1_col2\" class=\"data row1 col2\" >$50.76</td>\n",
       "            </tr>\n",
       "            <tr>\n",
       "                        <th id=\"T_e0fac210_1b4d_11eb_a410_2c337a050eeelevel0_row2\" class=\"row_heading level0 row2\" >145</th>\n",
       "                        <th id=\"T_e0fac210_1b4d_11eb_a410_2c337a050eeelevel1_row2\" class=\"row_heading level1 row2\" >Fiery Glass Crusader</th>\n",
       "                        <td id=\"T_e0fac210_1b4d_11eb_a410_2c337a050eeerow2_col0\" class=\"data row2 col0\" >9</td>\n",
       "                        <td id=\"T_e0fac210_1b4d_11eb_a410_2c337a050eeerow2_col1\" class=\"data row2 col1\" >$4.58</td>\n",
       "                        <td id=\"T_e0fac210_1b4d_11eb_a410_2c337a050eeerow2_col2\" class=\"data row2 col2\" >$41.22</td>\n",
       "            </tr>\n",
       "            <tr>\n",
       "                        <th id=\"T_e0fac210_1b4d_11eb_a410_2c337a050eeelevel0_row3\" class=\"row_heading level0 row3\" >132</th>\n",
       "                        <th id=\"T_e0fac210_1b4d_11eb_a410_2c337a050eeelevel1_row3\" class=\"row_heading level1 row3\" >Persuasion</th>\n",
       "                        <td id=\"T_e0fac210_1b4d_11eb_a410_2c337a050eeerow3_col0\" class=\"data row3 col0\" >9</td>\n",
       "                        <td id=\"T_e0fac210_1b4d_11eb_a410_2c337a050eeerow3_col1\" class=\"data row3 col1\" >$3.22</td>\n",
       "                        <td id=\"T_e0fac210_1b4d_11eb_a410_2c337a050eeerow3_col2\" class=\"data row3 col2\" >$28.99</td>\n",
       "            </tr>\n",
       "            <tr>\n",
       "                        <th id=\"T_e0fac210_1b4d_11eb_a410_2c337a050eeelevel0_row4\" class=\"row_heading level0 row4\" >108</th>\n",
       "                        <th id=\"T_e0fac210_1b4d_11eb_a410_2c337a050eeelevel1_row4\" class=\"row_heading level1 row4\" >Extraction, Quickblade Of Trembling Hands</th>\n",
       "                        <td id=\"T_e0fac210_1b4d_11eb_a410_2c337a050eeerow4_col0\" class=\"data row4 col0\" >9</td>\n",
       "                        <td id=\"T_e0fac210_1b4d_11eb_a410_2c337a050eeerow4_col1\" class=\"data row4 col1\" >$3.53</td>\n",
       "                        <td id=\"T_e0fac210_1b4d_11eb_a410_2c337a050eeerow4_col2\" class=\"data row4 col2\" >$31.77</td>\n",
       "            </tr>\n",
       "    </tbody></table>"
      ],
      "text/plain": [
       "<pandas.io.formats.style.Styler at 0x1953278b850>"
      ]
     },
     "execution_count": 191,
     "metadata": {},
     "output_type": "execute_result"
    }
   ],
   "source": [
    "#New DataFrame only from needed columns\n",
    "items_df = purchase_data[[\"Item ID\",\"Item Name\",\"Price\"]]\n",
    "\n",
    "#Groupby Item ID & Item Name\n",
    "pop_items = items_df.groupby([\"Item ID\", \"Item Name\"])\n",
    "\n",
    "#Purchase Count (how many times each item has been purchased)\n",
    "pop_items_purchase_counts = pop_items[\"Price\"].count()\n",
    "\n",
    "#Total Purchase Value\n",
    "pop_items_purchase_value = pop_items[\"Price\"].sum()\n",
    "\n",
    "#Item Price\n",
    "pop_items_price = pop_items_purchase_value / pop_items[\"Price\"].count()\n",
    "\n",
    "\n",
    "# Create Data Frame\n",
    "top_items = pd.DataFrame({\"Purchase Count:\": pop_items_purchase_counts,\n",
    "                             \"Item Price:\": pop_items_price,\n",
    "                             \"Total Purchase Value:\": pop_items_purchase_value})\n",
    "#Filter to only show TOP FIVE ITEMS\n",
    "topfive_items = top_items.sort_values([\"Purchase Count:\"], ascending=False).head()\n",
    "#FORMAT\n",
    "topfive_items.style.format({\"Item Price:\":\"${:,.2f}\", \n",
    "                               \"Total Purchase Value:\":\"${:,.2f}\"})"
   ]
  },
  {
   "cell_type": "markdown",
   "metadata": {},
   "source": [
    "## Most Profitable Items"
   ]
  },
  {
   "cell_type": "markdown",
   "metadata": {},
   "source": [
    "* Sort the above table by total purchase value in descending order\n",
    "\n",
    "\n",
    "* Optional: give the displayed data cleaner formatting\n",
    "\n",
    "\n",
    "* Display a preview of the data frame\n",
    "\n"
   ]
  },
  {
   "cell_type": "code",
   "execution_count": 192,
   "metadata": {
    "scrolled": true
   },
   "outputs": [
    {
     "data": {
      "text/html": [
       "<style  type=\"text/css\" >\n",
       "</style><table id=\"T_3d9315e7_1b50_11eb_b130_2c337a050eee\" ><thead>    <tr>        <th class=\"blank\" ></th>        <th class=\"blank level0\" ></th>        <th class=\"col_heading level0 col0\" >Purchase Count:</th>        <th class=\"col_heading level0 col1\" >Item Price:</th>        <th class=\"col_heading level0 col2\" >Total Purchase Value:</th>    </tr>    <tr>        <th class=\"index_name level0\" >Item ID</th>        <th class=\"index_name level1\" >Item Name</th>        <th class=\"blank\" ></th>        <th class=\"blank\" ></th>        <th class=\"blank\" ></th>    </tr></thead><tbody>\n",
       "                <tr>\n",
       "                        <th id=\"T_3d9315e7_1b50_11eb_b130_2c337a050eeelevel0_row0\" class=\"row_heading level0 row0\" >92</th>\n",
       "                        <th id=\"T_3d9315e7_1b50_11eb_b130_2c337a050eeelevel1_row0\" class=\"row_heading level1 row0\" >Final Critic</th>\n",
       "                        <td id=\"T_3d9315e7_1b50_11eb_b130_2c337a050eeerow0_col0\" class=\"data row0 col0\" >13</td>\n",
       "                        <td id=\"T_3d9315e7_1b50_11eb_b130_2c337a050eeerow0_col1\" class=\"data row0 col1\" >$4.61</td>\n",
       "                        <td id=\"T_3d9315e7_1b50_11eb_b130_2c337a050eeerow0_col2\" class=\"data row0 col2\" >$59.99</td>\n",
       "            </tr>\n",
       "            <tr>\n",
       "                        <th id=\"T_3d9315e7_1b50_11eb_b130_2c337a050eeelevel0_row1\" class=\"row_heading level0 row1\" >178</th>\n",
       "                        <th id=\"T_3d9315e7_1b50_11eb_b130_2c337a050eeelevel1_row1\" class=\"row_heading level1 row1\" >Oathbreaker, Last Hope of the Breaking Storm</th>\n",
       "                        <td id=\"T_3d9315e7_1b50_11eb_b130_2c337a050eeerow1_col0\" class=\"data row1 col0\" >12</td>\n",
       "                        <td id=\"T_3d9315e7_1b50_11eb_b130_2c337a050eeerow1_col1\" class=\"data row1 col1\" >$4.23</td>\n",
       "                        <td id=\"T_3d9315e7_1b50_11eb_b130_2c337a050eeerow1_col2\" class=\"data row1 col2\" >$50.76</td>\n",
       "            </tr>\n",
       "            <tr>\n",
       "                        <th id=\"T_3d9315e7_1b50_11eb_b130_2c337a050eeelevel0_row2\" class=\"row_heading level0 row2\" >82</th>\n",
       "                        <th id=\"T_3d9315e7_1b50_11eb_b130_2c337a050eeelevel1_row2\" class=\"row_heading level1 row2\" >Nirvana</th>\n",
       "                        <td id=\"T_3d9315e7_1b50_11eb_b130_2c337a050eeerow2_col0\" class=\"data row2 col0\" >9</td>\n",
       "                        <td id=\"T_3d9315e7_1b50_11eb_b130_2c337a050eeerow2_col1\" class=\"data row2 col1\" >$4.90</td>\n",
       "                        <td id=\"T_3d9315e7_1b50_11eb_b130_2c337a050eeerow2_col2\" class=\"data row2 col2\" >$44.10</td>\n",
       "            </tr>\n",
       "            <tr>\n",
       "                        <th id=\"T_3d9315e7_1b50_11eb_b130_2c337a050eeelevel0_row3\" class=\"row_heading level0 row3\" >145</th>\n",
       "                        <th id=\"T_3d9315e7_1b50_11eb_b130_2c337a050eeelevel1_row3\" class=\"row_heading level1 row3\" >Fiery Glass Crusader</th>\n",
       "                        <td id=\"T_3d9315e7_1b50_11eb_b130_2c337a050eeerow3_col0\" class=\"data row3 col0\" >9</td>\n",
       "                        <td id=\"T_3d9315e7_1b50_11eb_b130_2c337a050eeerow3_col1\" class=\"data row3 col1\" >$4.58</td>\n",
       "                        <td id=\"T_3d9315e7_1b50_11eb_b130_2c337a050eeerow3_col2\" class=\"data row3 col2\" >$41.22</td>\n",
       "            </tr>\n",
       "            <tr>\n",
       "                        <th id=\"T_3d9315e7_1b50_11eb_b130_2c337a050eeelevel0_row4\" class=\"row_heading level0 row4\" >103</th>\n",
       "                        <th id=\"T_3d9315e7_1b50_11eb_b130_2c337a050eeelevel1_row4\" class=\"row_heading level1 row4\" >Singed Scalpel</th>\n",
       "                        <td id=\"T_3d9315e7_1b50_11eb_b130_2c337a050eeerow4_col0\" class=\"data row4 col0\" >8</td>\n",
       "                        <td id=\"T_3d9315e7_1b50_11eb_b130_2c337a050eeerow4_col1\" class=\"data row4 col1\" >$4.35</td>\n",
       "                        <td id=\"T_3d9315e7_1b50_11eb_b130_2c337a050eeerow4_col2\" class=\"data row4 col2\" >$34.80</td>\n",
       "            </tr>\n",
       "    </tbody></table>"
      ],
      "text/plain": [
       "<pandas.io.formats.style.Styler at 0x19533d8b820>"
      ]
     },
     "execution_count": 192,
     "metadata": {},
     "output_type": "execute_result"
    }
   ],
   "source": [
    "#Identify the 5 most profitable items by total purchase value, then list (in a table):\n",
    "    #Item ID\n",
    "    #Item Name\n",
    "    #Purchase Count\n",
    "    #Item Price\n",
    "    #Total Purchase Value\n",
    "\n",
    "#Filter to only show TOP FIVE ITEMS in (\"TOTAL PURCHASE VALUE\")\n",
    "topfive_items = top_items.sort_values([\"Total Purchase Value:\"], ascending=False).head()\n",
    "#FORMAT\n",
    "topfive_items.style.format({\"Item Price:\":\"${:,.2f}\", \n",
    "                               \"Total Purchase Value:\":\"${:,.2f}\"})"
   ]
  }
 ],
 "metadata": {
  "anaconda-cloud": {},
  "kernel_info": {
   "name": "python3"
  },
  "kernelspec": {
   "display_name": "Python 3",
   "language": "python",
   "name": "python3"
  },
  "language_info": {
   "codemirror_mode": {
    "name": "ipython",
    "version": 3
   },
   "file_extension": ".py",
   "mimetype": "text/x-python",
   "name": "python",
   "nbconvert_exporter": "python",
   "pygments_lexer": "ipython3",
   "version": "3.8.3"
  },
  "latex_envs": {
   "LaTeX_envs_menu_present": true,
   "autoclose": false,
   "autocomplete": true,
   "bibliofile": "biblio.bib",
   "cite_by": "apalike",
   "current_citInitial": 1,
   "eqLabelWithNumbers": true,
   "eqNumInitial": 1,
   "hotkeys": {
    "equation": "Ctrl-E",
    "itemize": "Ctrl-I"
   },
   "labels_anchors": false,
   "latex_user_defs": false,
   "report_style_numbering": false,
   "user_envs_cfg": false
  },
  "nteract": {
   "version": "0.2.0"
  }
 },
 "nbformat": 4,
 "nbformat_minor": 2
}
